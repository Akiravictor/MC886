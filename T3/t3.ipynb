{
 "cells": [
  {
   "cell_type": "markdown",
   "metadata": {},
   "source": [
    "# Trabalho Pratico 3"
   ]
  },
  {
   "cell_type": "code",
   "execution_count": 1,
   "metadata": {
    "scrolled": true
   },
   "outputs": [],
   "source": [
    "import numpy as np\n",
    "import matplotlib.pyplot as plt\n",
    "import pandas as pd\n",
    "from sklearn.cluster import KMeans\n",
    "\n",
    "dataset = pd.read_csv(\"data.csv\", header=None)\n",
    "Y = pd.read_csv(\"ids\", header=None)"
   ]
  },
  {
   "cell_type": "code",
   "execution_count": 2,
   "metadata": {},
   "outputs": [
    {
     "name": "stdout",
     "output_type": "stream",
     "text": [
      "<class 'pandas.core.frame.DataFrame'>\n",
      "RangeIndex: 19924 entries, 0 to 19923\n",
      "Columns: 2209 entries, 0 to 2208\n",
      "dtypes: float64(2209)\n",
      "memory usage: 335.8 MB\n"
     ]
    },
    {
     "data": {
      "text/html": [
       "<div>\n",
       "<style>\n",
       "    .dataframe thead tr:only-child th {\n",
       "        text-align: right;\n",
       "    }\n",
       "\n",
       "    .dataframe thead th {\n",
       "        text-align: left;\n",
       "    }\n",
       "\n",
       "    .dataframe tbody tr th {\n",
       "        vertical-align: top;\n",
       "    }\n",
       "</style>\n",
       "<table border=\"1\" class=\"dataframe\">\n",
       "  <thead>\n",
       "    <tr style=\"text-align: right;\">\n",
       "      <th></th>\n",
       "      <th>0</th>\n",
       "      <th>1</th>\n",
       "      <th>2</th>\n",
       "      <th>3</th>\n",
       "      <th>4</th>\n",
       "      <th>5</th>\n",
       "      <th>6</th>\n",
       "      <th>7</th>\n",
       "      <th>8</th>\n",
       "      <th>9</th>\n",
       "      <th>...</th>\n",
       "      <th>2199</th>\n",
       "      <th>2200</th>\n",
       "      <th>2201</th>\n",
       "      <th>2202</th>\n",
       "      <th>2203</th>\n",
       "      <th>2204</th>\n",
       "      <th>2205</th>\n",
       "      <th>2206</th>\n",
       "      <th>2207</th>\n",
       "      <th>2208</th>\n",
       "    </tr>\n",
       "  </thead>\n",
       "  <tbody>\n",
       "    <tr>\n",
       "      <th>0</th>\n",
       "      <td>0.077257</td>\n",
       "      <td>0.0</td>\n",
       "      <td>0.0</td>\n",
       "      <td>0.0</td>\n",
       "      <td>0.000000</td>\n",
       "      <td>0.000000</td>\n",
       "      <td>0.0</td>\n",
       "      <td>0.0</td>\n",
       "      <td>0.0</td>\n",
       "      <td>0.0</td>\n",
       "      <td>...</td>\n",
       "      <td>0.000000</td>\n",
       "      <td>0.0</td>\n",
       "      <td>0.000000</td>\n",
       "      <td>0.0</td>\n",
       "      <td>0.0</td>\n",
       "      <td>0.0</td>\n",
       "      <td>0.0</td>\n",
       "      <td>0.000000</td>\n",
       "      <td>0.0</td>\n",
       "      <td>0.0</td>\n",
       "    </tr>\n",
       "    <tr>\n",
       "      <th>1</th>\n",
       "      <td>0.000000</td>\n",
       "      <td>0.0</td>\n",
       "      <td>0.0</td>\n",
       "      <td>0.0</td>\n",
       "      <td>0.000000</td>\n",
       "      <td>0.000000</td>\n",
       "      <td>0.0</td>\n",
       "      <td>0.0</td>\n",
       "      <td>0.0</td>\n",
       "      <td>0.0</td>\n",
       "      <td>...</td>\n",
       "      <td>0.000000</td>\n",
       "      <td>0.0</td>\n",
       "      <td>0.000000</td>\n",
       "      <td>0.0</td>\n",
       "      <td>0.0</td>\n",
       "      <td>0.0</td>\n",
       "      <td>0.0</td>\n",
       "      <td>0.055755</td>\n",
       "      <td>0.0</td>\n",
       "      <td>0.0</td>\n",
       "    </tr>\n",
       "    <tr>\n",
       "      <th>2</th>\n",
       "      <td>0.042250</td>\n",
       "      <td>0.0</td>\n",
       "      <td>0.0</td>\n",
       "      <td>0.0</td>\n",
       "      <td>0.000000</td>\n",
       "      <td>0.000000</td>\n",
       "      <td>0.0</td>\n",
       "      <td>0.0</td>\n",
       "      <td>0.0</td>\n",
       "      <td>0.0</td>\n",
       "      <td>...</td>\n",
       "      <td>0.093693</td>\n",
       "      <td>0.0</td>\n",
       "      <td>0.099296</td>\n",
       "      <td>0.0</td>\n",
       "      <td>0.0</td>\n",
       "      <td>0.0</td>\n",
       "      <td>0.0</td>\n",
       "      <td>0.000000</td>\n",
       "      <td>0.0</td>\n",
       "      <td>0.0</td>\n",
       "    </tr>\n",
       "    <tr>\n",
       "      <th>3</th>\n",
       "      <td>0.000000</td>\n",
       "      <td>0.0</td>\n",
       "      <td>0.0</td>\n",
       "      <td>0.0</td>\n",
       "      <td>0.069105</td>\n",
       "      <td>0.000000</td>\n",
       "      <td>0.0</td>\n",
       "      <td>0.0</td>\n",
       "      <td>0.0</td>\n",
       "      <td>0.0</td>\n",
       "      <td>...</td>\n",
       "      <td>0.000000</td>\n",
       "      <td>0.0</td>\n",
       "      <td>0.000000</td>\n",
       "      <td>0.0</td>\n",
       "      <td>0.0</td>\n",
       "      <td>0.0</td>\n",
       "      <td>0.0</td>\n",
       "      <td>0.036811</td>\n",
       "      <td>0.0</td>\n",
       "      <td>0.0</td>\n",
       "    </tr>\n",
       "    <tr>\n",
       "      <th>4</th>\n",
       "      <td>0.000000</td>\n",
       "      <td>0.0</td>\n",
       "      <td>0.0</td>\n",
       "      <td>0.0</td>\n",
       "      <td>0.000000</td>\n",
       "      <td>0.041917</td>\n",
       "      <td>0.0</td>\n",
       "      <td>0.0</td>\n",
       "      <td>0.0</td>\n",
       "      <td>0.0</td>\n",
       "      <td>...</td>\n",
       "      <td>0.000000</td>\n",
       "      <td>0.0</td>\n",
       "      <td>0.000000</td>\n",
       "      <td>0.0</td>\n",
       "      <td>0.0</td>\n",
       "      <td>0.0</td>\n",
       "      <td>0.0</td>\n",
       "      <td>0.000000</td>\n",
       "      <td>0.0</td>\n",
       "      <td>0.0</td>\n",
       "    </tr>\n",
       "  </tbody>\n",
       "</table>\n",
       "<p>5 rows × 2209 columns</p>\n",
       "</div>"
      ],
      "text/plain": [
       "       0     1     2     3         4         5     6     7     8     9     \\\n",
       "0  0.077257   0.0   0.0   0.0  0.000000  0.000000   0.0   0.0   0.0   0.0   \n",
       "1  0.000000   0.0   0.0   0.0  0.000000  0.000000   0.0   0.0   0.0   0.0   \n",
       "2  0.042250   0.0   0.0   0.0  0.000000  0.000000   0.0   0.0   0.0   0.0   \n",
       "3  0.000000   0.0   0.0   0.0  0.069105  0.000000   0.0   0.0   0.0   0.0   \n",
       "4  0.000000   0.0   0.0   0.0  0.000000  0.041917   0.0   0.0   0.0   0.0   \n",
       "\n",
       "   ...       2199  2200      2201  2202  2203  2204  2205      2206  2207  \\\n",
       "0  ...   0.000000   0.0  0.000000   0.0   0.0   0.0   0.0  0.000000   0.0   \n",
       "1  ...   0.000000   0.0  0.000000   0.0   0.0   0.0   0.0  0.055755   0.0   \n",
       "2  ...   0.093693   0.0  0.099296   0.0   0.0   0.0   0.0  0.000000   0.0   \n",
       "3  ...   0.000000   0.0  0.000000   0.0   0.0   0.0   0.0  0.036811   0.0   \n",
       "4  ...   0.000000   0.0  0.000000   0.0   0.0   0.0   0.0  0.000000   0.0   \n",
       "\n",
       "   2208  \n",
       "0   0.0  \n",
       "1   0.0  \n",
       "2   0.0  \n",
       "3   0.0  \n",
       "4   0.0  \n",
       "\n",
       "[5 rows x 2209 columns]"
      ]
     },
     "execution_count": 2,
     "metadata": {},
     "output_type": "execute_result"
    }
   ],
   "source": [
    "dataset.info()\n",
    "dataset.head()"
   ]
  },
  {
   "cell_type": "code",
   "execution_count": 3,
   "metadata": {},
   "outputs": [
    {
     "name": "stdout",
     "output_type": "stream",
     "text": [
      "<class 'pandas.core.frame.DataFrame'>\n",
      "RangeIndex: 19924 entries, 0 to 19923\n",
      "Data columns (total 1 columns):\n",
      "0    19924 non-null object\n",
      "dtypes: object(1)\n",
      "memory usage: 155.7+ KB\n"
     ]
    },
    {
     "data": {
      "text/html": [
       "<div>\n",
       "<style>\n",
       "    .dataframe thead tr:only-child th {\n",
       "        text-align: right;\n",
       "    }\n",
       "\n",
       "    .dataframe thead th {\n",
       "        text-align: left;\n",
       "    }\n",
       "\n",
       "    .dataframe tbody tr th {\n",
       "        vertical-align: top;\n",
       "    }\n",
       "</style>\n",
       "<table border=\"1\" class=\"dataframe\">\n",
       "  <thead>\n",
       "    <tr style=\"text-align: right;\">\n",
       "      <th></th>\n",
       "      <th>0</th>\n",
       "    </tr>\n",
       "  </thead>\n",
       "  <tbody>\n",
       "    <tr>\n",
       "      <th>0</th>\n",
       "      <td>832e15531654188fa0b951faa5f68540dfb1ca5a</td>\n",
       "    </tr>\n",
       "    <tr>\n",
       "      <th>1</th>\n",
       "      <td>aa5163928a6edfd3bf69fd11fe763aacecf4602d</td>\n",
       "    </tr>\n",
       "    <tr>\n",
       "      <th>2</th>\n",
       "      <td>e886703afff0c70d6598bcae0c2d69a5a237807f</td>\n",
       "    </tr>\n",
       "    <tr>\n",
       "      <th>3</th>\n",
       "      <td>c1ea507b177b2e1673ce7a576057f91b75ae9d29</td>\n",
       "    </tr>\n",
       "    <tr>\n",
       "      <th>4</th>\n",
       "      <td>bbf73405c85d22702fafc1c0916e8f713810ff8d</td>\n",
       "    </tr>\n",
       "  </tbody>\n",
       "</table>\n",
       "</div>"
      ],
      "text/plain": [
       "                                          0\n",
       "0  832e15531654188fa0b951faa5f68540dfb1ca5a\n",
       "1  aa5163928a6edfd3bf69fd11fe763aacecf4602d\n",
       "2  e886703afff0c70d6598bcae0c2d69a5a237807f\n",
       "3  c1ea507b177b2e1673ce7a576057f91b75ae9d29\n",
       "4  bbf73405c85d22702fafc1c0916e8f713810ff8d"
      ]
     },
     "execution_count": 3,
     "metadata": {},
     "output_type": "execute_result"
    }
   ],
   "source": [
    "Y.info()\n",
    "Y.head()"
   ]
  },
  {
   "cell_type": "markdown",
   "metadata": {},
   "source": [
    "We begin by exploring the data. The dimension is of 19924x2209, and a corresponding set of indexes 19924x1. Each of theses indexes is also the name of a file, in the docs/ folder, and theses files seem like random snippets of mailing lists and newsgroups. We expect a good metoid to be snippets of the same conversation.\n",
    "\n",
    "We'll start by using the elbow method to find a good number of clusters."
   ]
  },
  {
   "cell_type": "code",
   "execution_count": 4,
   "metadata": {},
   "outputs": [
    {
     "name": "stdout",
     "output_type": "stream",
     "text": [
      "1\n",
      "Score:  -18320.8021089\n",
      "101\n",
      "Score:  -14116.2995369\n",
      "201\n",
      "Score:  -13170.4192973\n",
      "301\n",
      "Score:  -12675.7693276\n",
      "401\n",
      "Score:  -12328.3451326\n",
      "501\n",
      "Score:  -12065.6571996\n",
      "601\n",
      "Score:  -11810.94645\n",
      "701\n",
      "Score:  -11606.0793561\n",
      "801\n",
      "Score:  -11408.7367476\n",
      "901\n",
      "Score:  -11236.5880752\n",
      "1001\n",
      "Score:  -11059.6415017\n",
      "1101\n",
      "Score:  -10903.7601923\n",
      "1201\n",
      "Score:  -10736.0550325\n",
      "1301\n",
      "Score:  -10582.9450188\n",
      "1401\n",
      "Score:  -10439.2010107\n",
      "1501\n",
      "Score:  -10298.1156484\n"
     ]
    }
   ],
   "source": [
    "Ks = np.arange(1, 1502, 100)\n",
    "km = []\n",
    "score = []\n",
    "j = 0\n",
    "for i in Ks:\n",
    "    print(i)\n",
    "    km.append(KMeans(n_clusters=i))\n",
    "    score_i = km[j].fit(dataset).score(dataset)\n",
    "    score.append(score_i)\n",
    "    print(\"Score: \", score_i)\n",
    "    j += 1\n",
    "\n",
    "#plot(Ks,score)"
   ]
  },
  {
   "cell_type": "markdown",
   "metadata": {},
   "source": [
    "After choosing a number of groups we want, we'll find the indexes of the closest metoid for our data.\n",
    "\n",
    "We'll then look at the snippets corresponding to a given group, and see if they talk about the same thing."
   ]
  },
  {
   "cell_type": "code",
   "execution_count": 19,
   "metadata": {
    "scrolled": true
   },
   "outputs": [
    {
     "data": {
      "image/png": "[encoded data removed]",
      "text/plain": [
       "<matplotlib.figure.Figure at 0x20216295e10>"
      ]
     },
     "metadata": {},
     "output_type": "display_data"
    }
   ],
   "source": [
    "plt.plot(Ks,score)\n",
    "plt.grid(True)\n",
    "plt.show()"
   ]
  },
  {
   "cell_type": "code",
   "execution_count": 20,
   "metadata": {},
   "outputs": [
    {
     "name": "stdout",
     "output_type": "stream",
     "text": [
      "19924\n"
     ]
    }
   ],
   "source": [
    "# chosen 100 arbitrarly for now, but we need to find the good number using the elbow method above\n",
    "# 100 because we have 19924 files and my guess is about 200 snippets for each conversation (maybe that's a very bad guess)\n",
    "chosen_km = KMeans(n_clusters=1500)\n",
    "chosen_km.fit(dataset)\n",
    "indexes = chosen_km.predict(dataset)\n",
    "print(len(indexes))"
   ]
  },
  {
   "cell_type": "code",
   "execution_count": 21,
   "metadata": {},
   "outputs": [
    {
     "name": "stdout",
     "output_type": "stream",
     "text": [
      "[ 571  141 1271 ...,  911  444  313]\n"
     ]
    }
   ],
   "source": [
    "print(indexes)"
   ]
  },
  {
   "cell_type": "code",
   "execution_count": 22,
   "metadata": {},
   "outputs": [
    {
     "name": "stdout",
     "output_type": "stream",
     "text": [
      "                                             0\n",
      "8522  77afd801cc7d1c7ac9c22a69d290fe1fa2cc4640\n",
      "                                              0\n",
      "10513  50bea4bbc8ccf3dd4e2c35946962a6d4e5dbb783\n",
      "                                              0\n",
      "11236  8ab8fd82bcd71526e28ad23708a7eea13ac53be0\n",
      "                                              0\n",
      "12829  15846efce8f36969f236ca7f696dc94ba27414aa\n",
      "                                              0\n",
      "12909  0eed5ae23154b81e2082daeefe889157240f6320\n",
      "                                              0\n",
      "19557  8b4fdf64ab85d55fdfe20eae64f5b81dbc06b2c3\n"
     ]
    }
   ],
   "source": [
    "# find 10 docs for cluster n°42\n",
    "n_cluster = 42\n",
    "j = 0\n",
    "for (i,index) in enumerate(indexes):\n",
    "    if index == n_cluster:\n",
    "        print(Y.iloc[[i]])\n",
    "        j += 1\n",
    "    if j > 10:\n",
    "        break"
   ]
  },
  {
   "cell_type": "markdown",
   "metadata": {},
   "source": [
    "Reading theses documents, we notice that ALL of them are from the newsgroup \"comp.graphics\" (and other newsgroups, but comp.graphics is the link between them all).\n",
    "\n",
    "Let's try another cluster:"
   ]
  },
  {
   "cell_type": "code",
   "execution_count": 23,
   "metadata": {},
   "outputs": [
    {
     "name": "stdout",
     "output_type": "stream",
     "text": [
      "                                            0\n",
      "252  944b9944191004d1a31029d4c49e98da403118b1\n",
      "                                            0\n",
      "471  6bf3eaf16b0e2da4ee3aec05763d742066da81c0\n",
      "                                            0\n",
      "513  e55588e74161f0bd7ea3318d2c840bbd425840e8\n",
      "                                            0\n",
      "758  f0de66d427dfecd91608bc7ee3e1eeb779629364\n",
      "                                            0\n",
      "933  40abe8af2405c13dfac6eff39c4c7343de93d002\n",
      "                                            0\n",
      "963  c5fdd751fa090dcbfbb21e61b43ed395a6a75525\n",
      "                                             0\n",
      "1121  c866dcfa35ef4a5f75e780eb4ff077902d9a3185\n",
      "                                             0\n",
      "1145  590fa9d63e797e98fea61d1de205d422445ead07\n",
      "                                             0\n",
      "1311  19d61bec9270684807a24be96d92bb067a79bf5b\n",
      "                                             0\n",
      "1657  857d3cef954a6e2e0e0901c0c87893e1731807b1\n",
      "                                             0\n",
      "2009  ecfd8cf527b2069c75c5f03c5d383b39ce10fd93\n"
     ]
    }
   ],
   "source": [
    "# find 10 docs for cluster n°42\n",
    "n_cluster = 12\n",
    "j = 0\n",
    "for (i,index) in enumerate(indexes):\n",
    "    if index == n_cluster:\n",
    "        print(Y.iloc[[i]])\n",
    "        j += 1\n",
    "    if j > 10:\n",
    "        break"
   ]
  },
  {
   "cell_type": "markdown",
   "metadata": {},
   "source": [
    "For this example, it doesn't work as well. This time the samples are about fairly large subjects (and different newsgroups) like baseball, politics and IBM hardware, but some are from the same topic. This suggests maybe the number of clusters isn't high enough.\n",
    "\n",
    "Now we'll try to do PCA to reduce the number of features. First we'll find a good number of components:"
   ]
  },
  {
   "cell_type": "code",
   "execution_count": 24,
   "metadata": {
    "scrolled": false
   },
   "outputs": [
    {
     "name": "stdout",
     "output_type": "stream",
     "text": [
      "< 10^-10: 0\n",
      "< 10^-9: 0\n",
      "< 10^-8: 0\n",
      "< 10^-7: 1\n",
      "< 10^-6: 3\n",
      "< 10^-5: 15\n",
      "< 10^-4: 489\n",
      "< 10^-3: 2050\n",
      "< 10^-2: 2206\n",
      "< 10^-1: 2209\n",
      "< 10^0: 2209\n",
      "< 10^1: 2209\n",
      "< 10^2: 2209\n",
      "< 10^3: 2209\n",
      "< 10^4: 2209\n",
      "< 10^5: 2209\n",
      "< 10^6: 2209\n",
      "< 10^7: 2209\n",
      "< 10^8: 2209\n",
      "< 10^9: 2209\n"
     ]
    }
   ],
   "source": [
    "from sklearn.decomposition import PCA\n",
    "pca = PCA()\n",
    "pca.fit(dataset)\n",
    "for i in range(-10,10):\n",
    "    a = 0\n",
    "    for x in pca.explained_variance_:\n",
    "        if x < pow(10,i):\n",
    "            a = a + 1\n",
    "    print(\"< 10^\"+str(i)+\": \"+str(a))"
   ]
  },
  {
   "cell_type": "markdown",
   "metadata": {
    "collapsed": true
   },
   "source": [
    "We'll try to keep 1700 features, thus disregarding the ~500 features with a covariance inferiour to 10^-4. This will already help a lot with the calculations."
   ]
  },
  {
   "cell_type": "code",
   "execution_count": 25,
   "metadata": {},
   "outputs": [
    {
     "data": {
      "text/plain": [
       "(19924, 1700)"
      ]
     },
     "execution_count": 25,
     "metadata": {},
     "output_type": "execute_result"
    }
   ],
   "source": [
    "pca.n_components = 1700\n",
    "X_reduced = pca.fit_transform(dataset)\n",
    "X_reduced.shape"
   ]
  }
 ],
 "metadata": {
  "kernelspec": {
   "display_name": "Python 3",
   "language": "python",
   "name": "python3"
  },
  "language_info": {
   "codemirror_mode": {
    "name": "ipython",
    "version": 3
   },
   "file_extension": ".py",
   "mimetype": "text/x-python",
   "name": "python",
   "nbconvert_exporter": "python",
   "pygments_lexer": "ipython3",
   "version": "3.6.1"
  }
 },
 "nbformat": 4,
 "nbformat_minor": 2
}
